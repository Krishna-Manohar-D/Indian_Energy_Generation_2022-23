{
  "nbformat": 4,
  "nbformat_minor": 0,
  "metadata": {
    "colab": {
      "provenance": []
    },
    "kernelspec": {
      "name": "python3",
      "display_name": "Python 3"
    },
    "language_info": {
      "name": "python"
    }
  },
  "cells": [
    {
      "cell_type": "code",
      "execution_count": null,
      "metadata": {
        "id": "OGvvKeh8RPv9"
      },
      "outputs": [],
      "source": [
        "energy_data = [\n",
        "    {'state': 'Chandigarh', 'solar': 12.61, 'wind': 0, 'hydro': 0, 'thermal': 0},\n",
        "    {'state': 'Delhi', 'solar': 236.11, 'wind': 0, 'hydro': 0, 'thermal': 6625.07},\n",
        "    {'state': 'Haryana', 'solar': 555.2, 'wind': 0, 'hydro': 1025.63, 'thermal': 28637.84},\n",
        "    {'state': 'Himachal Pradesh', 'solar': 58.76, 'wind': 0, 'hydro': 10848.25, 'thermal': 0},\n",
        "    {'state': 'UT of J&K and Ladakh', 'solar': 0, 'wind': 0, 'hydro': 5358.51, 'thermal': 0},\n",
        "    {'state': 'Punjab', 'solar': 2778.66, 'wind': 0, 'hydro': 5074.2, 'thermal': 37696.8},\n",
        "    {'state': 'Rajasthan', 'solar': 34474.43, 'wind': 6111.41, 'hydro': 1261.77, 'thermal': 59718.1},\n",
        "    {'state': 'Uttar Pradesh', 'solar': 3674.02, 'wind': 0, 'hydro': 2062.48, 'thermal': 79448.73},\n",
        "    {'state': 'Uttarakhand', 'solar': 331.8, 'wind': 0, 'hydro': 9068.04, 'thermal': 744.1},\n",
        "    {'state': 'Chhattisgarh', 'solar': 635.42, 'wind': 0, 'hydro': 237.37, 'thermal': 85194.14},\n",
        "    {'state': 'Gujarat', 'solar': 10335.32, 'wind': 19206.22, 'hydro': 2107.62, 'thermal': 48790.84},\n",
        "    {'state': 'Madhya Pradesh', 'solar': 3839.3, 'wind': 4486.72, 'hydro': 4996.02, 'thermal': 61149.48},\n",
        "    {'state': 'Maharashtra', 'solar': 4387.85, 'wind': 7243.06, 'hydro': 6944.73, 'thermal': 108343.44},\n",
        "    {'state': 'Dadar & Nagar Haveli and Daman diu', 'solar': 27.4, 'wind': 0, 'hydro': 0, 'thermal': 0},\n",
        "    {'state': 'Goa', 'solar': 14.87, 'wind': 0, 'hydro': 0, 'thermal': 0},\n",
        "    {'state': 'Andhra Pradesh', 'solar': 8140.72, 'wind': 7426.46, 'hydro': 3994.41, 'thermal': 48900.64},\n",
        "    {'state': 'Telangana', 'solar': 6745.46, 'wind': 279.23, 'hydro': 6298.49, 'thermal': 34678.83},\n",
        "    {'state': 'Karnataka', 'solar': 14153.79, 'wind': 9967.89, 'hydro': 13002.7, 'thermal': 23683.55},\n",
        "    {'state': 'Kerala', 'solar': 879.75, 'wind': 179.32, 'hydro': 7989, 'thermal': 0.12},\n",
        "    {'state': 'Tamil Nadu', 'solar': 9419.39, 'wind': 16913.85, 'hydro': 5965.77, 'thermal': 31343.51},\n",
        "    {'state': 'Lakshadweep', 'solar': 0.1, 'wind': 0, 'hydro': 0, 'thermal': 58.49},\n",
        "    {'state': 'Puducherry', 'solar': 12.24, 'wind': 0, 'hydro': 0, 'thermal': 233.07},\n",
        "    {'state': 'Andaman & Nicobar Islands', 'solar': 23.94, 'wind': 0, 'hydro': 0, 'thermal': 350.85},\n",
        "    {'state': 'Bihar', 'solar': 169.53, 'wind': 0, 'hydro': 0, 'thermal': 0},\n",
        "    {'state': 'Jharkhand', 'solar': 19.7, 'wind': 0, 'hydro': 168.99, 'thermal': 15429.67},\n",
        "    {'state': 'Odisha', 'solar': 706.24, 'wind': 0, 'hydro': 5082.2, 'thermal': 30333.48},\n",
        "    {'state': 'Sikkim', 'solar': 0, 'wind': 0, 'hydro': 4199.85, 'thermal': 0},\n",
        "    {'state': 'West Bengal', 'solar': 125.04, 'wind': 0, 'hydro': 1989.56, 'thermal': 46669.11},\n",
        "    {'state': 'Arunachal Pradesh', 'solar': 22.27, 'wind': 0, 'hydro': 0, 'thermal': 0},\n",
        "    {'state': 'Assam', 'solar': 216.35, 'wind': 0, 'hydro': 481.6, 'thermal': 1676.98},\n",
        "    {'state': 'Manipur', 'solar': 8.17, 'wind': 0, 'hydro': 0, 'thermal': 0},\n",
        "    {'state': 'Meghalaya', 'solar': 0, 'wind': 0, 'hydro': 980.25, 'thermal': 0},\n",
        "    {'state': 'Mizoram', 'solar': 3.21, 'wind': 0, 'hydro': 0, 'thermal': 0},\n",
        "    {'state': 'Nagaland', 'solar': 0, 'wind': 0, 'hydro': 0, 'thermal': 0},\n",
        "    {'state': 'Tripura', 'solar': 6.58, 'wind': 0, 'hydro': 0, 'thermal': 550.45}\n",
        "]"
      ]
    },
    {
      "cell_type": "code",
      "source": [
        "energy_data"
      ],
      "metadata": {
        "colab": {
          "base_uri": "https://localhost:8080/"
        },
        "collapsed": true,
        "id": "VcdvZdt5RebJ",
        "outputId": "84cc2775-9d39-4718-d104-cecd3242a0b1"
      },
      "execution_count": null,
      "outputs": [
        {
          "output_type": "execute_result",
          "data": {
            "text/plain": [
              "[{'state': 'Tamil Nadu',\n",
              "  'solar': 3000,\n",
              "  'wind': 7000,\n",
              "  'hydro': 1500,\n",
              "  'thermal': 8000},\n",
              " {'state': 'Maharashtra',\n",
              "  'solar': 2500,\n",
              "  'wind': 4000,\n",
              "  'hydro': 2200,\n",
              "  'thermal': 10000},\n",
              " {'state': 'Gujarat',\n",
              "  'solar': 4000,\n",
              "  'wind': 5000,\n",
              "  'hydro': 1000,\n",
              "  'thermal': 9000},\n",
              " {'state': 'Karnataka',\n",
              "  'solar': 3500,\n",
              "  'wind': 4500,\n",
              "  'hydro': 2000,\n",
              "  'thermal': 7000},\n",
              " {'state': 'Rajasthan',\n",
              "  'solar': 5000,\n",
              "  'wind': 3000,\n",
              "  'hydro': 500,\n",
              "  'thermal': 6000}]"
            ]
          },
          "metadata": {},
          "execution_count": 3
        }
      ]
    },
    {
      "cell_type": "code",
      "source": [
        "def state_total_re_generation(n):\n",
        "  found = False\n",
        "  if n == \"all\":\n",
        "    for i in energy_data:\n",
        "      print(f'The total renewable energy generated in {i[\"state\"]} in 2022-23 is {round(i[\"solar\"] + i[\"wind\"] + i[\"hydro\"],2)}')\n",
        "    found = True # All states were processed\n",
        "  else:\n",
        "    for j in energy_data:\n",
        "      if j[\"state\"].lower().replace(\" \",\"\") == n:\n",
        "        print(f'The total renewable energy generated in {j[\"state\"]} in 2022-23 is {round(j[\"solar\"] + j[\"wind\"] + j[\"hydro\"],2)}')\n",
        "        found = True\n",
        "        break # Stop searching once found\n",
        "\n",
        "  if not found: # Check if found is still False after the loops\n",
        "    print(\"State data not present or check the spelling\")\n",
        "\n",
        "\n",
        "print(\"type the name of the state or all\")\n",
        "a = input()\n",
        "s = a.lower().replace(\" \",\"\")\n",
        "state_total_re_generation(s)"
      ],
      "metadata": {
        "colab": {
          "base_uri": "https://localhost:8080/"
        },
        "id": "xhaEbq7jVKwC",
        "outputId": "a6dc1d72-9eba-44b6-9850-21bb323cede2"
      },
      "execution_count": null,
      "outputs": [
        {
          "output_type": "stream",
          "name": "stdout",
          "text": [
            "type the name of the state or all\n",
            "maharashtra\n",
            "The total renewable energy generated in Maharashtra in 2022-23 is 18575.64\n"
          ]
        }
      ]
    },
    {
      "cell_type": "code",
      "source": [
        "re_gen = []\n",
        "for i in energy_data:\n",
        "  a = i[\"solar\"] + i[\"wind\"] + i[\"hydro\"]\n",
        "  re_gen.append(a)\n",
        "\n",
        "highest_re_gen = max(re_gen)\n",
        "for i in energy_data:\n",
        "  if (i[\"solar\"] + i[\"wind\"] + i[\"hydro\"]) == highest_re_gen:\n",
        "    print(f'The state with highest renewable energy generation is {i[\"state\"]}')"
      ],
      "metadata": {
        "colab": {
          "base_uri": "https://localhost:8080/"
        },
        "id": "RLfvMRTPWG4D",
        "outputId": "a3ba5aa3-2b2c-43de-e890-69665048794e"
      },
      "execution_count": null,
      "outputs": [
        {
          "output_type": "stream",
          "name": "stdout",
          "text": [
            "The state with highest renewable energy generation is Rajasthan\n"
          ]
        }
      ]
    },
    {
      "cell_type": "code",
      "source": [
        "the_gen = []\n",
        "for i in energy_data:\n",
        "  the_gen.append(i[\"thermal\"])\n",
        "\n",
        "highest_the_gen = max(the_gen)\n",
        "for i in energy_data:\n",
        "  if (i[\"thermal\"]) == highest_the_gen:\n",
        "    print(f'The state with highest thermal energy generation is {i[\"state\"]}')\n"
      ],
      "metadata": {
        "colab": {
          "base_uri": "https://localhost:8080/"
        },
        "id": "IowBMJm2af9_",
        "outputId": "fe5d22f3-5409-418e-db33-0fcd051cb7d5"
      },
      "execution_count": null,
      "outputs": [
        {
          "output_type": "stream",
          "name": "stdout",
          "text": [
            "The state with highest thermal energy generation is Maharashtra\n"
          ]
        }
      ]
    },
    {
      "cell_type": "code",
      "source": [
        "lst  = []\n",
        "for i in energy_data:\n",
        "  dct={}\n",
        "  dct[\"state\"] = i[\"state\"]\n",
        "  total_energy = i[\"solar\"] + i[\"wind\"] + i[\"hydro\"] + i[\"thermal\"]\n",
        "  if total_energy != 0:\n",
        "    dct[\"Renewable Energy %\"] = round(((i[\"solar\"]+i[\"wind\"]+i[\"hydro\"])/total_energy)*100,2)\n",
        "    dct[\"Thermal Energy %\"] = round(((i[\"thermal\"])/total_energy)*100,2)\n",
        "  else:\n",
        "    dct[\"Renewable Energy %\"] = 0\n",
        "    dct[\"Thermal Energy %\"] = 0\n",
        "  lst.append(dct)\n",
        "\n",
        "lst"
      ],
      "metadata": {
        "colab": {
          "base_uri": "https://localhost:8080/"
        },
        "id": "8km_CXkMbBgU",
        "outputId": "00f5247b-3843-4fc4-9613-8065b49978ca"
      },
      "execution_count": null,
      "outputs": [
        {
          "output_type": "execute_result",
          "data": {
            "text/plain": [
              "[{'state': 'Chandigarh', 'Renewable Energy %': 100.0, 'Thermal Energy %': 0.0},\n",
              " {'state': 'Delhi', 'Renewable Energy %': 3.44, 'Thermal Energy %': 96.56},\n",
              " {'state': 'Haryana', 'Renewable Energy %': 5.23, 'Thermal Energy %': 94.77},\n",
              " {'state': 'Himachal Pradesh',\n",
              "  'Renewable Energy %': 100.0,\n",
              "  'Thermal Energy %': 0.0},\n",
              " {'state': 'UT of J&K and Ladakh',\n",
              "  'Renewable Energy %': 100.0,\n",
              "  'Thermal Energy %': 0.0},\n",
              " {'state': 'Punjab', 'Renewable Energy %': 17.24, 'Thermal Energy %': 82.76},\n",
              " {'state': 'Rajasthan', 'Renewable Energy %': 41.2, 'Thermal Energy %': 58.8},\n",
              " {'state': 'Uttar Pradesh',\n",
              "  'Renewable Energy %': 6.73,\n",
              "  'Thermal Energy %': 93.27},\n",
              " {'state': 'Uttarakhand',\n",
              "  'Renewable Energy %': 92.66,\n",
              "  'Thermal Energy %': 7.34},\n",
              " {'state': 'Chhattisgarh',\n",
              "  'Renewable Energy %': 1.01,\n",
              "  'Thermal Energy %': 98.99},\n",
              " {'state': 'Gujarat', 'Renewable Energy %': 39.35, 'Thermal Energy %': 60.65},\n",
              " {'state': 'Madhya Pradesh',\n",
              "  'Renewable Energy %': 17.89,\n",
              "  'Thermal Energy %': 82.11},\n",
              " {'state': 'Maharashtra',\n",
              "  'Renewable Energy %': 14.64,\n",
              "  'Thermal Energy %': 85.36},\n",
              " {'state': 'Dadar & Nagar Haveli and Daman diu',\n",
              "  'Renewable Energy %': 100.0,\n",
              "  'Thermal Energy %': 0.0},\n",
              " {'state': 'Goa', 'Renewable Energy %': 100.0, 'Thermal Energy %': 0.0},\n",
              " {'state': 'Andhra Pradesh',\n",
              "  'Renewable Energy %': 28.57,\n",
              "  'Thermal Energy %': 71.43},\n",
              " {'state': 'Telangana',\n",
              "  'Renewable Energy %': 27.76,\n",
              "  'Thermal Energy %': 72.24},\n",
              " {'state': 'Karnataka',\n",
              "  'Renewable Energy %': 61.05,\n",
              "  'Thermal Energy %': 38.95},\n",
              " {'state': 'Kerala', 'Renewable Energy %': 100.0, 'Thermal Energy %': 0.0},\n",
              " {'state': 'Tamil Nadu',\n",
              "  'Renewable Energy %': 50.75,\n",
              "  'Thermal Energy %': 49.25},\n",
              " {'state': 'Lakshadweep',\n",
              "  'Renewable Energy %': 0.17,\n",
              "  'Thermal Energy %': 99.83},\n",
              " {'state': 'Puducherry',\n",
              "  'Renewable Energy %': 4.99,\n",
              "  'Thermal Energy %': 95.01},\n",
              " {'state': 'Andaman & Nicobar Islands',\n",
              "  'Renewable Energy %': 6.39,\n",
              "  'Thermal Energy %': 93.61},\n",
              " {'state': 'Bihar', 'Renewable Energy %': 100.0, 'Thermal Energy %': 0.0},\n",
              " {'state': 'Jharkhand', 'Renewable Energy %': 1.21, 'Thermal Energy %': 98.79},\n",
              " {'state': 'Odisha', 'Renewable Energy %': 16.02, 'Thermal Energy %': 83.98},\n",
              " {'state': 'Sikkim', 'Renewable Energy %': 100.0, 'Thermal Energy %': 0.0},\n",
              " {'state': 'West Bengal',\n",
              "  'Renewable Energy %': 4.33,\n",
              "  'Thermal Energy %': 95.67},\n",
              " {'state': 'Arunachal Pradesh',\n",
              "  'Renewable Energy %': 100.0,\n",
              "  'Thermal Energy %': 0.0},\n",
              " {'state': 'Assam', 'Renewable Energy %': 29.39, 'Thermal Energy %': 70.61},\n",
              " {'state': 'Manipur', 'Renewable Energy %': 100.0, 'Thermal Energy %': 0.0},\n",
              " {'state': 'Meghalaya', 'Renewable Energy %': 100.0, 'Thermal Energy %': 0.0},\n",
              " {'state': 'Mizoram', 'Renewable Energy %': 100.0, 'Thermal Energy %': 0.0},\n",
              " {'state': 'Nagaland', 'Renewable Energy %': 0, 'Thermal Energy %': 0},\n",
              " {'state': 'Tripura', 'Renewable Energy %': 1.18, 'Thermal Energy %': 98.82}]"
            ]
          },
          "metadata": {},
          "execution_count": 25
        }
      ]
    },
    {
      "cell_type": "code",
      "source": [
        "lst.sort(key = lambda i: i[\"Renewable Energy %\"], reverse=True)\n",
        "lst"
      ],
      "metadata": {
        "colab": {
          "base_uri": "https://localhost:8080/"
        },
        "id": "hmgO9-dkfvxr",
        "outputId": "70c26630-34f1-44a3-d2dc-f40b811c3caf"
      },
      "execution_count": null,
      "outputs": [
        {
          "output_type": "execute_result",
          "data": {
            "text/plain": [
              "[{'state': 'Chandigarh', 'Renewable Energy %': 100.0, 'Thermal Energy %': 0.0},\n",
              " {'state': 'Himachal Pradesh',\n",
              "  'Renewable Energy %': 100.0,\n",
              "  'Thermal Energy %': 0.0},\n",
              " {'state': 'UT of J&K and Ladakh',\n",
              "  'Renewable Energy %': 100.0,\n",
              "  'Thermal Energy %': 0.0},\n",
              " {'state': 'Dadar & Nagar Haveli and Daman diu',\n",
              "  'Renewable Energy %': 100.0,\n",
              "  'Thermal Energy %': 0.0},\n",
              " {'state': 'Goa', 'Renewable Energy %': 100.0, 'Thermal Energy %': 0.0},\n",
              " {'state': 'Kerala', 'Renewable Energy %': 100.0, 'Thermal Energy %': 0.0},\n",
              " {'state': 'Bihar', 'Renewable Energy %': 100.0, 'Thermal Energy %': 0.0},\n",
              " {'state': 'Sikkim', 'Renewable Energy %': 100.0, 'Thermal Energy %': 0.0},\n",
              " {'state': 'Arunachal Pradesh',\n",
              "  'Renewable Energy %': 100.0,\n",
              "  'Thermal Energy %': 0.0},\n",
              " {'state': 'Manipur', 'Renewable Energy %': 100.0, 'Thermal Energy %': 0.0},\n",
              " {'state': 'Meghalaya', 'Renewable Energy %': 100.0, 'Thermal Energy %': 0.0},\n",
              " {'state': 'Mizoram', 'Renewable Energy %': 100.0, 'Thermal Energy %': 0.0},\n",
              " {'state': 'Uttarakhand',\n",
              "  'Renewable Energy %': 92.66,\n",
              "  'Thermal Energy %': 7.34},\n",
              " {'state': 'Karnataka',\n",
              "  'Renewable Energy %': 61.05,\n",
              "  'Thermal Energy %': 38.95},\n",
              " {'state': 'Tamil Nadu',\n",
              "  'Renewable Energy %': 50.75,\n",
              "  'Thermal Energy %': 49.25},\n",
              " {'state': 'Rajasthan', 'Renewable Energy %': 41.2, 'Thermal Energy %': 58.8},\n",
              " {'state': 'Gujarat', 'Renewable Energy %': 39.35, 'Thermal Energy %': 60.65},\n",
              " {'state': 'Assam', 'Renewable Energy %': 29.39, 'Thermal Energy %': 70.61},\n",
              " {'state': 'Andhra Pradesh',\n",
              "  'Renewable Energy %': 28.57,\n",
              "  'Thermal Energy %': 71.43},\n",
              " {'state': 'Telangana',\n",
              "  'Renewable Energy %': 27.76,\n",
              "  'Thermal Energy %': 72.24},\n",
              " {'state': 'Madhya Pradesh',\n",
              "  'Renewable Energy %': 17.89,\n",
              "  'Thermal Energy %': 82.11},\n",
              " {'state': 'Punjab', 'Renewable Energy %': 17.24, 'Thermal Energy %': 82.76},\n",
              " {'state': 'Odisha', 'Renewable Energy %': 16.02, 'Thermal Energy %': 83.98},\n",
              " {'state': 'Maharashtra',\n",
              "  'Renewable Energy %': 14.64,\n",
              "  'Thermal Energy %': 85.36},\n",
              " {'state': 'Uttar Pradesh',\n",
              "  'Renewable Energy %': 6.73,\n",
              "  'Thermal Energy %': 93.27},\n",
              " {'state': 'Andaman & Nicobar Islands',\n",
              "  'Renewable Energy %': 6.39,\n",
              "  'Thermal Energy %': 93.61},\n",
              " {'state': 'Haryana', 'Renewable Energy %': 5.23, 'Thermal Energy %': 94.77},\n",
              " {'state': 'Puducherry',\n",
              "  'Renewable Energy %': 4.99,\n",
              "  'Thermal Energy %': 95.01},\n",
              " {'state': 'West Bengal',\n",
              "  'Renewable Energy %': 4.33,\n",
              "  'Thermal Energy %': 95.67},\n",
              " {'state': 'Delhi', 'Renewable Energy %': 3.44, 'Thermal Energy %': 96.56},\n",
              " {'state': 'Jharkhand', 'Renewable Energy %': 1.21, 'Thermal Energy %': 98.79},\n",
              " {'state': 'Tripura', 'Renewable Energy %': 1.18, 'Thermal Energy %': 98.82},\n",
              " {'state': 'Chhattisgarh',\n",
              "  'Renewable Energy %': 1.01,\n",
              "  'Thermal Energy %': 98.99},\n",
              " {'state': 'Lakshadweep',\n",
              "  'Renewable Energy %': 0.17,\n",
              "  'Thermal Energy %': 99.83},\n",
              " {'state': 'Nagaland', 'Renewable Energy %': 0, 'Thermal Energy %': 0}]"
            ]
          },
          "metadata": {},
          "execution_count": 26
        }
      ]
    },
    {
      "cell_type": "code",
      "source": [],
      "metadata": {
        "id": "w74JHIjfg-pn"
      },
      "execution_count": null,
      "outputs": []
    }
  ]
}